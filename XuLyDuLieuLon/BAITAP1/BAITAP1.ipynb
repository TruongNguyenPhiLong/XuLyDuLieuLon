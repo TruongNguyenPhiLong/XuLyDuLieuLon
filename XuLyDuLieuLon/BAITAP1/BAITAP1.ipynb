{
  "nbformat": 4,
  "nbformat_minor": 0,
  "metadata": {
    "colab": {
      "name": "BAITAP1",
      "provenance": [],
      "authorship_tag": "ABX9TyONAjcOm2DCYkE8Z1+ciQwc",
      "include_colab_link": true
    },
    "kernelspec": {
      "name": "python3",
      "display_name": "Python 3"
    }
  },
  "cells": [
    {
      "cell_type": "markdown",
      "metadata": {
        "id": "view-in-github",
        "colab_type": "text"
      },
      "source": [
        "<a href=\"https://colab.research.google.com/github/TruongNguyenPhiLong/XuLyDuLieuLon/blob/main/XuLyDuLieuLon/BAITAP1/BAITAP1.ipynb\" target=\"_parent\"><img src=\"https://colab.research.google.com/assets/colab-badge.svg\" alt=\"Open In Colab\"/></a>"
      ]
    },
    {
      "cell_type": "code",
      "metadata": {
        "colab": {
          "base_uri": "https://localhost:8080/"
        },
        "id": "M8G69BaDk5vn",
        "outputId": "78fe7fd1-1340-4d87-e781-c059b0c2ab6a"
      },
      "source": [
        "pip install pyspark"
      ],
      "execution_count": 1,
      "outputs": [
        {
          "output_type": "stream",
          "text": [
            "Collecting pyspark\n",
            "\u001b[?25l  Downloading https://files.pythonhosted.org/packages/f0/26/198fc8c0b98580f617cb03cb298c6056587b8f0447e20fa40c5b634ced77/pyspark-3.0.1.tar.gz (204.2MB)\n",
            "\u001b[K     |████████████████████████████████| 204.2MB 65kB/s \n",
            "\u001b[?25hCollecting py4j==0.10.9\n",
            "\u001b[?25l  Downloading https://files.pythonhosted.org/packages/9e/b6/6a4fb90cd235dc8e265a6a2067f2a2c99f0d91787f06aca4bcf7c23f3f80/py4j-0.10.9-py2.py3-none-any.whl (198kB)\n",
            "\u001b[K     |████████████████████████████████| 204kB 51.0MB/s \n",
            "\u001b[?25hBuilding wheels for collected packages: pyspark\n",
            "  Building wheel for pyspark (setup.py) ... \u001b[?25l\u001b[?25hdone\n",
            "  Created wheel for pyspark: filename=pyspark-3.0.1-py2.py3-none-any.whl size=204612242 sha256=0b2f29eeb54580f73b2322e99f34152ff7e07a90aad5aa1420f4ba05bff88c86\n",
            "  Stored in directory: /root/.cache/pip/wheels/5e/bd/07/031766ca628adec8435bb40f0bd83bb676ce65ff4007f8e73f\n",
            "Successfully built pyspark\n",
            "Installing collected packages: py4j, pyspark\n",
            "Successfully installed py4j-0.10.9 pyspark-3.0.1\n"
          ],
          "name": "stdout"
        }
      ]
    },
    {
      "cell_type": "code",
      "metadata": {
        "id": "_R43gWOvlVrg"
      },
      "source": [
        "import pyspark"
      ],
      "execution_count": 2,
      "outputs": []
    },
    {
      "cell_type": "code",
      "metadata": {
        "id": "OkMW-J2SldDX"
      },
      "source": [
        "\r\n",
        "import pyspark\r\n",
        "from pyspark import SparkConf, SparkContext\r\n",
        "import collections\r\n",
        "\r\n",
        "conf= SparkConf().setMaster('local').setAppName('word countuing')\r\n",
        "sc= SparkContext.getOrCreate(conf=conf)"
      ],
      "execution_count": 3,
      "outputs": []
    },
    {
      "cell_type": "code",
      "metadata": {
        "colab": {
          "base_uri": "https://localhost:8080/"
        },
        "id": "nQb6HG5Fo1T2",
        "outputId": "fdc70bd9-5f78-48fb-b7fe-e2cdd3587b01"
      },
      "source": [
        "import urllib.request\r\n",
        "url = \"http://textfiles.com/adventure/aencounter.txt\"\r\n",
        "file = urllib.request.urlopen(url)\r\n",
        "decoded_line = \"\"\r\n",
        "for line in file:\r\n",
        "\tdecoded_line += line.decode(\"utf-8\")\r\n",
        " \r\n",
        "text = decoded_line.split()\r\n",
        "rdd = sc.parallelize(text)\r\n",
        "counts = rdd.map(lambda word: (word, 1))\r\n",
        "\r\n",
        "CountMostAppearWord = counts.reduceByKey(lambda x, y: x + y)\r\n",
        "sortMostAppearWord = CountMostAppearWord.sortBy(lambda x: x[1], 0)\r\n",
        "print(sortMostAppearWord.collect())"
      ],
      "execution_count": 6,
      "outputs": [
        {
          "output_type": "stream",
          "text": [
            "[('THE', 15), ('*', 10), ('YOU', 10), ('TO', 7), ('THIS', 5), ('A', 5), ('IS', 4), ('IN', 4), ('WILL', 4), ('AND', 4), ('IT', 3), ('FIND', 3), ('HER', 3), ('***************************************', 2), ('[N]', 2), ('GET', 2), ('DESK.', 2), ('ETC.', 2), ('AROUND', 2), ('HAVE', 2), ('YOUR', 2), ('SO', 2), ('OUT', 2), ('VASE', 2), ('BY', 2), ('HOW', 1), ('SOLVE:', 1), ('ALPINE', 1), ('ENCOUNTER', 1), ('ADVENTURE', 1), ('TRULY', 1), ('AN', 1), ('ENIGMA.', 1), ('CAN', 1), ('BE', 1), ('SOLVED', 1), ('HUNDREDS', 1), ('OF', 1), ('MOVES', 1), ('OR', 1), ('HALF', 1), ('DOZEN....', 1), ('WELL', 1), ('I', 1), (\"HAVEN'T\", 1), ('PLAYED', 1), ('HUNDRED', 1), ('MOVE', 1), ('VERSION...SO', 1), (\"HERE'S\", 1), ('SHORT', 1), ('ONE.', 1), ('COMMANDS', 1), ('BRACKETS:', 1), ('PUT', 1), ('INSIDE.', 1), ('NEAR', 1), ('[W]', 1), ('REGIS-', 1), ('TRATION', 1), ('[REGISTER]', 1), ('FORMALITY.', 1), ('FILL', 1), ('ANY', 1), ('NAME,', 1), ('ADDRESS,', 1), ('[WAIT]', 1), ('FOR', 1), ('BLONDE', 1), ('WOMAN', 1), ('APPEAR.', 1), (\"SHE'LL\", 1), ('APPEAR', 1), ('9:45.', 1), ('AT', 1), ('THAT', 1), ('POINT', 1), ('PRESS', 1), ('KEY', 1), ('(NOT', 1), ('BEFORE.)', 1), ('[LOOK', 1), ('BACKPACK]', 1), ('UNCOVER', 1), ('VASE.', 1), ('[TAKE', 1), ('VASE]', 1), ('VITAL', 1), ('INFORMATION', 1), ('UNDER', 1), ('NOSE!', 1), ('[CALL', 1), ('INSPECTOR]', 1), ('WON!', 1), ('THERE', 1), ('ARE', 1), ('MANY', 1), ('OTHER', 1), ('PLACES', 1), ('GO,', 1), ('THINGS', 1), ('DO,', 1), ('BUT', 1), ('PARSER', 1), ('BAD', 1), ('GRAPHICS', 1), ('SLOPPY', 1), ('WHY', 1), ('BOTHER?', 1), ('EXPLANATION', 1), ('AS', 1), ('FOLLOWS:', 1), ('1)', 1), ('MISSION,', 1), ('GETTING', 1), ('READING', 1), ('NEWSPAPER.', 1), ('2)', 1), (\"WOMAN'S\", 1), ('NAME', 1), ('(SINCE', 1), ('TYPING', 1), (\"'LOOK\", 1), (\"WOMAN'\", 1), ('DOES', 1), ('NOT', 1), ('WORK)', 1), ('FOLLOWING', 1), (\"'LISTEN'-ING\", 1), ('CONVERSATION.', 1), ('RENEE.', 1), ('3)', 1), ('BACKPACK', 1), ('ON', 1), ('LOOK', 1), ('DUE', 1), ('COMMON', 1), ('SENSE.', 1), ('4)', 1), ('IF', 1), ('CARRY', 1), ('RUN', 1), ('INTO', 1), ('INSPECTOR', 1), ('HE', 1), ('ARRESTS', 1), ('YOU.', 1), (\"'CALL\", 1), (\"INSPECTOR'.\", 1), ('WRITTEN', 1), ('BY:', 1), (\"PIRATE'S\", 1), ('FRIEND', 1), ('*FRED', 1), ('SOFTWARE*', 1)]\n"
          ],
          "name": "stdout"
        }
      ]
    }
  ]
}